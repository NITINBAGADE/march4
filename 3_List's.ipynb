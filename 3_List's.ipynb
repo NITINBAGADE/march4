{
 "cells": [
  {
   "cell_type": "markdown",
   "id": "a27ede25",
   "metadata": {},
   "source": [
    "# Lists"
   ]
  },
  {
   "cell_type": "markdown",
   "id": "e5c12ec6",
   "metadata": {},
   "source": [
    "Lists can be thought of the most general version of a sequence in Python.\n",
    "\n",
    "Unlike strings, they are mutable, meaning the elements inside a list can be changed!\n",
    "\n",
    "Lists are constructed with brackets [] and commas separating every element in the list."
   ]
  },
  {
   "cell_type": "code",
   "execution_count": 12,
   "id": "9b47be48",
   "metadata": {},
   "outputs": [
    {
     "name": "stdout",
     "output_type": "stream",
     "text": [
      "[1, 2, 3, 4, 5]\n"
     ]
    }
   ],
   "source": [
    "# Assing a list to an variable named my_list\n",
    "\n",
    "my_list = [1, 2, 3, 4, 5]\n",
    "print(my_list)"
   ]
  },
  {
   "cell_type": "code",
   "execution_count": 13,
   "id": "cd100b77",
   "metadata": {},
   "outputs": [
    {
     "data": {
      "text/plain": [
       "list"
      ]
     },
     "execution_count": 13,
     "metadata": {},
     "output_type": "execute_result"
    }
   ],
   "source": [
    "type(my_list)"
   ]
  },
  {
   "cell_type": "markdown",
   "id": "3907eebf",
   "metadata": {},
   "source": [
    "We just created a list of integers, but lists can actually hold different object types. For example:"
   ]
  },
  {
   "cell_type": "code",
   "execution_count": 14,
   "id": "b830293c",
   "metadata": {},
   "outputs": [],
   "source": [
    "my_list = ['A string', 23, 100, 232, 0, 'o', True] "
   ]
  },
  {
   "cell_type": "code",
   "execution_count": 15,
   "id": "ea654762",
   "metadata": {},
   "outputs": [
    {
     "data": {
      "text/plain": [
       "['A string', 23, 100, 232, 0, 'o', True]"
      ]
     },
     "execution_count": 15,
     "metadata": {},
     "output_type": "execute_result"
    }
   ],
   "source": [
    "my_list"
   ]
  },
  {
   "cell_type": "markdown",
   "id": "017813c5",
   "metadata": {},
   "source": [
    "Just like strings, the len() function will tell you how many items are in the sequence of the\n",
    "list."
   ]
  },
  {
   "cell_type": "code",
   "execution_count": 16,
   "id": "051da553",
   "metadata": {},
   "outputs": [
    {
     "data": {
      "text/plain": [
       "7"
      ]
     },
     "execution_count": 16,
     "metadata": {},
     "output_type": "execute_result"
    }
   ],
   "source": [
    "len(my_list)"
   ]
  },
  {
   "cell_type": "markdown",
   "id": "e5244f93",
   "metadata": {},
   "source": [
    "# List Indexing"
   ]
  },
  {
   "cell_type": "markdown",
   "id": "dc8327b5",
   "metadata": {},
   "source": [
    "Indexing work just like in strings.\n",
    "\n",
    "A list index refers to the location of an element in a list.\n",
    "\n",
    "Remember the indexing begins from 0 in Python.\n",
    "\n",
    "The first element is assigned an index 0, the second element is assigned an index of 1 and so on\n",
    "and so forth."
   ]
  },
  {
   "cell_type": "code",
   "execution_count": 6,
   "id": "6e22a2ed",
   "metadata": {},
   "outputs": [
    {
     "name": "stdout",
     "output_type": "stream",
     "text": [
      "['one', 'two', 'three', 'foure', 'five']\n"
     ]
    }
   ],
   "source": [
    "# consider a list of string\n",
    "\n",
    "Numbers = [ 'one','two','three','foure','five']\n",
    "print(Numbers)"
   ]
  },
  {
   "cell_type": "code",
   "execution_count": 17,
   "id": "285dee8f",
   "metadata": {},
   "outputs": [
    {
     "name": "stdout",
     "output_type": "stream",
     "text": [
      "one\n"
     ]
    }
   ],
   "source": [
    "# Grab the element at index 0, which is the FIRST element\n",
    "\n",
    "print(Numbers[0])"
   ]
  },
  {
   "cell_type": "code",
   "execution_count": 8,
   "id": "e17d7e21",
   "metadata": {},
   "outputs": [
    {
     "data": {
      "text/plain": [
       "5"
      ]
     },
     "execution_count": 8,
     "metadata": {},
     "output_type": "execute_result"
    }
   ],
   "source": [
    "len(Numbers)"
   ]
  },
  {
   "cell_type": "code",
   "execution_count": 18,
   "id": "e82533ce",
   "metadata": {},
   "outputs": [
    {
     "name": "stdout",
     "output_type": "stream",
     "text": [
      "foure\n"
     ]
    }
   ],
   "source": [
    "# Grab the element at index 3, which is the FOURTH element\n",
    "\n",
    "print(Numbers[3])"
   ]
  },
  {
   "cell_type": "code",
   "execution_count": 10,
   "id": "bec388a9",
   "metadata": {},
   "outputs": [
    {
     "ename": "IndexError",
     "evalue": "list index out of range",
     "output_type": "error",
     "traceback": [
      "\u001b[1;31m---------------------------------------------------------------------------\u001b[0m",
      "\u001b[1;31mIndexError\u001b[0m                                Traceback (most recent call last)",
      "\u001b[1;32m~\\AppData\\Local\\Temp\\ipykernel_4280\\2964334231.py\u001b[0m in \u001b[0;36m<module>\u001b[1;34m\u001b[0m\n\u001b[1;32m----> 1\u001b[1;33m \u001b[0mprint\u001b[0m\u001b[1;33m(\u001b[0m\u001b[0mNumbers\u001b[0m\u001b[1;33m[\u001b[0m\u001b[1;36m6\u001b[0m\u001b[1;33m]\u001b[0m\u001b[1;33m)\u001b[0m\u001b[1;33m\u001b[0m\u001b[1;33m\u001b[0m\u001b[0m\n\u001b[0m",
      "\u001b[1;31mIndexError\u001b[0m: list index out of range"
     ]
    }
   ],
   "source": [
    "print(Numbers[6])"
   ]
  },
  {
   "cell_type": "code",
   "execution_count": 19,
   "id": "3ec4983e",
   "metadata": {},
   "outputs": [
    {
     "name": "stdout",
     "output_type": "stream",
     "text": [
      "five\n"
     ]
    }
   ],
   "source": [
    "# Grab the element at the index -1 , which is the LAST element\n",
    "\n",
    "print(Numbers[-1])"
   ]
  },
  {
   "cell_type": "code",
   "execution_count": 20,
   "id": "aa80b275",
   "metadata": {},
   "outputs": [
    {
     "name": "stdout",
     "output_type": "stream",
     "text": [
      "three\n"
     ]
    }
   ],
   "source": [
    "# Grab the element starting from index -3, which is the THIRD LAST element\n",
    "\n",
    "print(Numbers[-3])"
   ]
  },
  {
   "cell_type": "markdown",
   "id": "1d735e78",
   "metadata": {},
   "source": [
    "# List Slicing"
   ]
  },
  {
   "cell_type": "markdown",
   "id": "ddf2a894",
   "metadata": {},
   "source": [
    "We can use a : to perform slicing which grabs everything up to a designated point.\n",
    "\n",
    "The starting index is specified on the left of the : and the ending index is specified on the\n",
    "right of the : .\n",
    "\n",
    "Remember the element located at the right index is not included.\n",
    "\n",
    "In reverse direction it starts with -1"
   ]
  },
  {
   "cell_type": "code",
   "execution_count": 21,
   "id": "bf410dad",
   "metadata": {},
   "outputs": [
    {
     "name": "stdout",
     "output_type": "stream",
     "text": [
      "['one', 'two', 'three', 'foure', 'five']\n"
     ]
    }
   ],
   "source": [
    "# print our list\n",
    "\n",
    "print(Numbers)"
   ]
  },
  {
   "cell_type": "code",
   "execution_count": 22,
   "id": "83656d3d",
   "metadata": {},
   "outputs": [
    {
     "data": {
      "text/plain": [
       "['two', 'three', 'foure']"
      ]
     },
     "execution_count": 22,
     "metadata": {},
     "output_type": "execute_result"
    }
   ],
   "source": [
    "# Grab the element starting from index 1 and everything past it\n",
    "\n",
    "Numbers[1:4]"
   ]
  },
  {
   "cell_type": "markdown",
   "id": "389a2779",
   "metadata": {},
   "source": [
    "If you do not specify the ending index, then all elements are extracted which comes after the\n",
    "starting index including the element at that starting index.\n",
    "The operation knows only to stop when it has run through the entire list"
   ]
  },
  {
   "cell_type": "code",
   "execution_count": 23,
   "id": "0aef7860",
   "metadata": {},
   "outputs": [
    {
     "data": {
      "text/plain": [
       "['three', 'foure', 'five']"
      ]
     },
     "execution_count": 23,
     "metadata": {},
     "output_type": "execute_result"
    }
   ],
   "source": [
    "# Grab everything starting from index 2\n",
    "\n",
    "Numbers[2:]"
   ]
  },
  {
   "cell_type": "markdown",
   "id": "4bf7f9ae",
   "metadata": {},
   "source": [
    "If you do not specify the starting index, then all elements are extracted which comes befores\n",
    "the ending index excluding the element at the specified ending index. The operation knows\n",
    "only to stop when it has extracted all elements before the element at the ending index."
   ]
  },
  {
   "cell_type": "code",
   "execution_count": 24,
   "id": "88dbd19c",
   "metadata": {},
   "outputs": [
    {
     "data": {
      "text/plain": [
       "['one', 'two', 'three', 'foure']"
      ]
     },
     "execution_count": 24,
     "metadata": {},
     "output_type": "execute_result"
    }
   ],
   "source": [
    "# Grab everything before the index 4\n",
    "\n",
    "Numbers[:4]"
   ]
  },
  {
   "cell_type": "markdown",
   "id": "0685b0c8",
   "metadata": {},
   "source": [
    "If you do not specify the starting and the ending index, it will extract all elements of the list."
   ]
  },
  {
   "cell_type": "code",
   "execution_count": 25,
   "id": "01ae361a",
   "metadata": {},
   "outputs": [
    {
     "name": "stdout",
     "output_type": "stream",
     "text": [
      "['one', 'two', 'three', 'foure', 'five']\n"
     ]
    }
   ],
   "source": [
    "# Grab everything\n",
    "\n",
    "print (Numbers[:])"
   ]
  },
  {
   "cell_type": "markdown",
   "id": "cca29a2b",
   "metadata": {},
   "source": [
    "We can also extract the last four elements. Remember we can use the index -4 to extract the\n",
    "FOURTH LAST element"
   ]
  },
  {
   "cell_type": "code",
   "execution_count": 26,
   "id": "40f36948",
   "metadata": {},
   "outputs": [
    {
     "data": {
      "text/plain": [
       "['two', 'three', 'foure', 'five']"
      ]
     },
     "execution_count": 26,
     "metadata": {},
     "output_type": "execute_result"
    }
   ],
   "source": [
    "# Grab the LAST FOUR elements of the list\n",
    "\n",
    "Numbers[-4:]"
   ]
  },
  {
   "cell_type": "code",
   "execution_count": 27,
   "id": "1cba2df3",
   "metadata": {},
   "outputs": [
    {
     "data": {
      "text/plain": [
       "['one']"
      ]
     },
     "execution_count": 27,
     "metadata": {},
     "output_type": "execute_result"
    }
   ],
   "source": [
    "Numbers[:-4]"
   ]
  },
  {
   "cell_type": "code",
   "execution_count": 28,
   "id": "7adcb52b",
   "metadata": {},
   "outputs": [
    {
     "ename": "IndexError",
     "evalue": "list index out of range",
     "output_type": "error",
     "traceback": [
      "\u001b[1;31m---------------------------------------------------------------------------\u001b[0m",
      "\u001b[1;31mIndexError\u001b[0m                                Traceback (most recent call last)",
      "\u001b[1;32m~\\AppData\\Local\\Temp\\ipykernel_4280\\3670774569.py\u001b[0m in \u001b[0;36m<module>\u001b[1;34m\u001b[0m\n\u001b[1;32m----> 1\u001b[1;33m \u001b[0mNumbers\u001b[0m\u001b[1;33m[\u001b[0m\u001b[1;33m-\u001b[0m\u001b[1;36m10\u001b[0m\u001b[1;33m]\u001b[0m\u001b[1;33m\u001b[0m\u001b[1;33m\u001b[0m\u001b[0m\n\u001b[0m",
      "\u001b[1;31mIndexError\u001b[0m: list index out of range"
     ]
    }
   ],
   "source": [
    "Numbers[-10]"
   ]
  },
  {
   "cell_type": "markdown",
   "id": "dd8fe886",
   "metadata": {},
   "source": [
    "It should also be noted that list indexing will return an error if there is no element at that index."
   ]
  },
  {
   "cell_type": "code",
   "execution_count": 29,
   "id": "8ee43e59",
   "metadata": {},
   "outputs": [
    {
     "data": {
      "text/plain": [
       "5"
      ]
     },
     "execution_count": 29,
     "metadata": {},
     "output_type": "execute_result"
    }
   ],
   "source": [
    "len(Numbers)"
   ]
  },
  {
   "cell_type": "code",
   "execution_count": 30,
   "id": "66ce1e5f",
   "metadata": {},
   "outputs": [
    {
     "ename": "IndexError",
     "evalue": "list index out of range",
     "output_type": "error",
     "traceback": [
      "\u001b[1;31m---------------------------------------------------------------------------\u001b[0m",
      "\u001b[1;31mIndexError\u001b[0m                                Traceback (most recent call last)",
      "\u001b[1;32m~\\AppData\\Local\\Temp\\ipykernel_4280\\5599580.py\u001b[0m in \u001b[0;36m<module>\u001b[1;34m\u001b[0m\n\u001b[1;32m----> 1\u001b[1;33m \u001b[0mNumbers\u001b[0m\u001b[1;33m[\u001b[0m\u001b[1;36m8\u001b[0m\u001b[1;33m]\u001b[0m\u001b[1;33m\u001b[0m\u001b[1;33m\u001b[0m\u001b[0m\n\u001b[0m",
      "\u001b[1;31mIndexError\u001b[0m: list index out of range"
     ]
    }
   ],
   "source": [
    "Numbers[8]"
   ]
  },
  {
   "cell_type": "markdown",
   "id": "a28628c2",
   "metadata": {},
   "source": [
    "# List Operations"
   ]
  },
  {
   "cell_type": "markdown",
   "id": "4171367a",
   "metadata": {},
   "source": [
    "Remember we said that lists are mutable as opposed to strings. Lets see how can we change\n",
    "the elements of a list\n",
    "\n",
    "We can also use + to concatenate lists, just like we did for strings."
   ]
  },
  {
   "cell_type": "code",
   "execution_count": 31,
   "id": "845763ea",
   "metadata": {},
   "outputs": [
    {
     "name": "stdout",
     "output_type": "stream",
     "text": [
      "['one', 'two', 'three', 'foure', 'five']\n"
     ]
    }
   ],
   "source": [
    "print(Numbers)"
   ]
  },
  {
   "cell_type": "code",
   "execution_count": 32,
   "id": "f7e1b6cb",
   "metadata": {},
   "outputs": [
    {
     "data": {
      "text/plain": [
       "['one', 'two', 'three', 'foure', 'five', 'six']"
      ]
     },
     "execution_count": 32,
     "metadata": {},
     "output_type": "execute_result"
    }
   ],
   "source": [
    "Numbers + ['six']"
   ]
  },
  {
   "cell_type": "markdown",
   "id": "8d804d9e",
   "metadata": {},
   "source": [
    "Note: This doesn't actually change the original list!"
   ]
  },
  {
   "cell_type": "code",
   "execution_count": 33,
   "id": "90c4684a",
   "metadata": {},
   "outputs": [
    {
     "name": "stdout",
     "output_type": "stream",
     "text": [
      "['one', 'two', 'three', 'foure', 'five']\n"
     ]
    }
   ],
   "source": [
    "print(Numbers)"
   ]
  },
  {
   "cell_type": "markdown",
   "id": "75e56fb0",
   "metadata": {},
   "source": [
    "You would have to reassign the list to make the change permanent."
   ]
  },
  {
   "cell_type": "code",
   "execution_count": 34,
   "id": "73efd444",
   "metadata": {},
   "outputs": [],
   "source": [
    "# Reassing\n",
    "\n",
    "Numbers = Numbers + ['six']"
   ]
  },
  {
   "cell_type": "code",
   "execution_count": 35,
   "id": "5b6b12b4",
   "metadata": {},
   "outputs": [
    {
     "data": {
      "text/plain": [
       "['one', 'two', 'three', 'foure', 'five', 'six']"
      ]
     },
     "execution_count": 35,
     "metadata": {},
     "output_type": "execute_result"
    }
   ],
   "source": [
    "Numbers"
   ]
  },
  {
   "cell_type": "markdown",
   "id": "eff632ba",
   "metadata": {},
   "source": [
    "We can also use the * for a duplication method similar to strings"
   ]
  },
  {
   "cell_type": "code",
   "execution_count": 37,
   "id": "45f6b9a7",
   "metadata": {},
   "outputs": [
    {
     "data": {
      "text/plain": [
       "36"
      ]
     },
     "execution_count": 37,
     "metadata": {},
     "output_type": "execute_result"
    }
   ],
   "source": [
    "# Make the list double\n",
    "\n",
    "len(Numbers * 6)"
   ]
  },
  {
   "cell_type": "markdown",
   "id": "f1513183",
   "metadata": {},
   "source": [
    "# List Functions"
   ]
  },
  {
   "cell_type": "markdown",
   "id": "a909c61b",
   "metadata": {},
   "source": [
    "len() function returns the length of the list"
   ]
  },
  {
   "cell_type": "code",
   "execution_count": 38,
   "id": "1938e644",
   "metadata": {},
   "outputs": [
    {
     "name": "stdout",
     "output_type": "stream",
     "text": [
      "['one', 'two', 'three', 'foure', 'five', 'six']\n"
     ]
    }
   ],
   "source": [
    "print(Numbers)"
   ]
  },
  {
   "cell_type": "code",
   "execution_count": 39,
   "id": "bb5cb654",
   "metadata": {},
   "outputs": [
    {
     "data": {
      "text/plain": [
       "6"
      ]
     },
     "execution_count": 39,
     "metadata": {},
     "output_type": "execute_result"
    }
   ],
   "source": [
    "len(Numbers)"
   ]
  },
  {
   "cell_type": "markdown",
   "id": "41049981",
   "metadata": {},
   "source": [
    "min() function returns the minimum element of the list\n",
    "\n",
    "min() function only works with lists of similar data types"
   ]
  },
  {
   "cell_type": "code",
   "execution_count": 40,
   "id": "2ccffe14",
   "metadata": {},
   "outputs": [],
   "source": [
    "new_list = [6 , 9 , 1 , 3 , 5.5]"
   ]
  },
  {
   "cell_type": "code",
   "execution_count": 41,
   "id": "d0d92707",
   "metadata": {},
   "outputs": [
    {
     "data": {
      "text/plain": [
       "1"
      ]
     },
     "execution_count": 41,
     "metadata": {},
     "output_type": "execute_result"
    }
   ],
   "source": [
    "min(new_list)"
   ]
  },
  {
   "cell_type": "code",
   "execution_count": 42,
   "id": "5a95bc9b",
   "metadata": {},
   "outputs": [],
   "source": [
    "my_new_list = ['a' , 'b' , 'z' , 'y' , 'm']"
   ]
  },
  {
   "cell_type": "code",
   "execution_count": 43,
   "id": "9fa0bda5",
   "metadata": {},
   "outputs": [
    {
     "data": {
      "text/plain": [
       "'a'"
      ]
     },
     "execution_count": 43,
     "metadata": {},
     "output_type": "execute_result"
    }
   ],
   "source": [
    "min(my_new_list)"
   ]
  },
  {
   "cell_type": "markdown",
   "id": "fcd73434",
   "metadata": {},
   "source": [
    "max() function returns the maximum element of the list\n",
    "\n",
    "max() function only works with lists of similar data types"
   ]
  },
  {
   "cell_type": "code",
   "execution_count": 44,
   "id": "d96dbc3f",
   "metadata": {},
   "outputs": [],
   "source": [
    "new_list = ['Argue' , 'Burgar' , 'Parent' , 'Linear' , 'Shape']"
   ]
  },
  {
   "cell_type": "code",
   "execution_count": 45,
   "id": "01c74655",
   "metadata": {},
   "outputs": [
    {
     "data": {
      "text/plain": [
       "'Shape'"
      ]
     },
     "execution_count": 45,
     "metadata": {},
     "output_type": "execute_result"
    }
   ],
   "source": [
    "max(new_list)"
   ]
  },
  {
   "cell_type": "markdown",
   "id": "77fb7958",
   "metadata": {},
   "source": [
    "sum() function returns the sum of the elements of the list\n",
    "\n",
    "sum() function only works with lists of numeric data types"
   ]
  },
  {
   "cell_type": "code",
   "execution_count": 46,
   "id": "0434b522",
   "metadata": {},
   "outputs": [],
   "source": [
    "new_list = [10 , 9 , 1 , 3 , 5.5]"
   ]
  },
  {
   "cell_type": "code",
   "execution_count": 47,
   "id": "ad49dd5d",
   "metadata": {},
   "outputs": [
    {
     "data": {
      "text/plain": [
       "28.5"
      ]
     },
     "execution_count": 47,
     "metadata": {},
     "output_type": "execute_result"
    }
   ],
   "source": [
    "sum(new_list)"
   ]
  },
  {
   "cell_type": "markdown",
   "id": "30f3eb2f",
   "metadata": {},
   "source": [
    "sorted() function returns the sorted list\n",
    "\n",
    "sorted() function takes reverse boolean as an argument\n",
    "\n",
    "sorted() function only works on a list with similar data types"
   ]
  },
  {
   "cell_type": "code",
   "execution_count": 48,
   "id": "814dd494",
   "metadata": {},
   "outputs": [
    {
     "data": {
      "text/plain": [
       "[10, 9, 1, 3, 5.5]"
      ]
     },
     "execution_count": 48,
     "metadata": {},
     "output_type": "execute_result"
    }
   ],
   "source": [
    "new_list"
   ]
  },
  {
   "cell_type": "code",
   "execution_count": 49,
   "id": "36accbf0",
   "metadata": {},
   "outputs": [
    {
     "data": {
      "text/plain": [
       "[1, 3, 5.5, 9, 10]"
      ]
     },
     "execution_count": 49,
     "metadata": {},
     "output_type": "execute_result"
    }
   ],
   "source": [
    "sorted(new_list)"
   ]
  },
  {
   "cell_type": "code",
   "execution_count": 50,
   "id": "05b810b9",
   "metadata": {},
   "outputs": [
    {
     "name": "stdout",
     "output_type": "stream",
     "text": [
      "[10, 9, 1, 3, 5.5]\n"
     ]
    }
   ],
   "source": [
    "print(new_list)"
   ]
  },
  {
   "cell_type": "code",
   "execution_count": 51,
   "id": "a0093b57",
   "metadata": {},
   "outputs": [],
   "source": [
    "my_new_list = ['Argue' , 'Burgar' , 'Parent' , 'Linear' , 'Shape']"
   ]
  },
  {
   "cell_type": "code",
   "execution_count": 52,
   "id": "b9186ae6",
   "metadata": {},
   "outputs": [
    {
     "data": {
      "text/plain": [
       "['Argue', 'Burgar', 'Linear', 'Parent', 'Shape']"
      ]
     },
     "execution_count": 52,
     "metadata": {},
     "output_type": "execute_result"
    }
   ],
   "source": [
    "sorted(my_new_list)"
   ]
  },
  {
   "cell_type": "code",
   "execution_count": 53,
   "id": "15a13de3",
   "metadata": {},
   "outputs": [
    {
     "name": "stdout",
     "output_type": "stream",
     "text": [
      "['Argue', 'Burgar', 'Parent', 'Linear', 'Shape']\n"
     ]
    }
   ],
   "source": [
    "print(my_new_list)"
   ]
  },
  {
   "cell_type": "code",
   "execution_count": 57,
   "id": "ac12b311",
   "metadata": {},
   "outputs": [
    {
     "data": {
      "text/plain": [
       "['Shape', 'Parent', 'Linear', 'Burgar', 'Argue']"
      ]
     },
     "execution_count": 57,
     "metadata": {},
     "output_type": "execute_result"
    }
   ],
   "source": [
    "sorted(my_new_list, reverse = True)"
   ]
  },
  {
   "cell_type": "code",
   "execution_count": 58,
   "id": "c09c96d8",
   "metadata": {},
   "outputs": [
    {
     "data": {
      "text/plain": [
       "['Argue', 'Burgar', 'Linear', 'Parent', 'Shape']"
      ]
     },
     "execution_count": 58,
     "metadata": {},
     "output_type": "execute_result"
    }
   ],
   "source": [
    "sorted(my_new_list)"
   ]
  },
  {
   "cell_type": "markdown",
   "id": "68521a0b",
   "metadata": {},
   "source": [
    "sorted() function does not change our list"
   ]
  },
  {
   "cell_type": "code",
   "execution_count": 59,
   "id": "f43c34fd",
   "metadata": {},
   "outputs": [
    {
     "data": {
      "text/plain": [
       "['Argue', 'Burgar', 'Parent', 'Linear', 'Shape']"
      ]
     },
     "execution_count": 59,
     "metadata": {},
     "output_type": "execute_result"
    }
   ],
   "source": [
    "my_new_list"
   ]
  },
  {
   "cell_type": "markdown",
   "id": "0b474a15",
   "metadata": {},
   "source": [
    "# List Methods"
   ]
  },
  {
   "cell_type": "markdown",
   "id": "c8c546fe",
   "metadata": {},
   "source": [
    "If you are familiar with another programming language, you might start to draw parallels\n",
    "between arrays in another language and lists in Python. Lists in Python however, tend to be\n",
    "more flexible than arrays in other languages for a two good reasons: they have no fixed size\n",
    "(meaning we don't have to specify how big a list will be), and they have no fixed type constraint\n",
    "(like we've seen above). There are following list methods defined."
   ]
  },
  {
   "cell_type": "code",
   "execution_count": 61,
   "id": "be05b9df",
   "metadata": {},
   "outputs": [],
   "source": [
    "# Create a new list\n",
    "\n",
    "new_list = [ 1 , 2 , 3 , 1 , 1 , 1 , 3 , 10 , 5 , 8]"
   ]
  },
  {
   "cell_type": "code",
   "execution_count": 62,
   "id": "63682817",
   "metadata": {},
   "outputs": [
    {
     "data": {
      "text/plain": [
       "[1, 2, 3, 1, 1, 1, 3, 10, 5, 8]"
      ]
     },
     "execution_count": 62,
     "metadata": {},
     "output_type": "execute_result"
    }
   ],
   "source": [
    "# Print the list\n",
    "new_list"
   ]
  },
  {
   "cell_type": "code",
   "execution_count": 63,
   "id": "8446ead4",
   "metadata": {},
   "outputs": [
    {
     "data": {
      "text/plain": [
       "10"
      ]
     },
     "execution_count": 63,
     "metadata": {},
     "output_type": "execute_result"
    }
   ],
   "source": [
    "len(new_list)"
   ]
  },
  {
   "cell_type": "code",
   "execution_count": 64,
   "id": "d455ca3c",
   "metadata": {},
   "outputs": [
    {
     "data": {
      "text/plain": [
       "list"
      ]
     },
     "execution_count": 64,
     "metadata": {},
     "output_type": "execute_result"
    }
   ],
   "source": [
    "type(new_list)"
   ]
  },
  {
   "cell_type": "markdown",
   "id": "f2f0009c",
   "metadata": {},
   "source": [
    "append()\n",
    "\n",
    "Use the append() method to permanently add an item to the end of a list.\n",
    "\n",
    "append() method takes the element which you want to add to the list as an argument"
   ]
  },
  {
   "cell_type": "code",
   "execution_count": 65,
   "id": "5dd2bca1",
   "metadata": {},
   "outputs": [],
   "source": [
    "# Append to the end of the list\n",
    "\n",
    "new_list.append('Append me!')"
   ]
  },
  {
   "cell_type": "code",
   "execution_count": 66,
   "id": "50ecfd5d",
   "metadata": {},
   "outputs": [
    {
     "name": "stdout",
     "output_type": "stream",
     "text": [
      "[1, 2, 3, 1, 1, 1, 3, 10, 5, 8, 'Append me!']\n"
     ]
    }
   ],
   "source": [
    "print(new_list)"
   ]
  },
  {
   "cell_type": "code",
   "execution_count": 67,
   "id": "86a59d34",
   "metadata": {},
   "outputs": [
    {
     "name": "stdout",
     "output_type": "stream",
     "text": [
      "[1, 2, 3, 1, 1, 1, 3, 10, 5, 8, 'Append me!']\n"
     ]
    }
   ],
   "source": [
    "print(new_list)"
   ]
  },
  {
   "cell_type": "code",
   "execution_count": 68,
   "id": "6961b15c",
   "metadata": {},
   "outputs": [
    {
     "data": {
      "text/plain": [
       "11"
      ]
     },
     "execution_count": 68,
     "metadata": {},
     "output_type": "execute_result"
    }
   ],
   "source": [
    "len(new_list)"
   ]
  },
  {
   "cell_type": "code",
   "execution_count": 69,
   "id": "99adb27f",
   "metadata": {},
   "outputs": [],
   "source": [
    "# Show\n",
    "\n",
    "new_list.append(2.73)"
   ]
  },
  {
   "cell_type": "code",
   "execution_count": 70,
   "id": "2df1d816",
   "metadata": {},
   "outputs": [
    {
     "name": "stdout",
     "output_type": "stream",
     "text": [
      "[1, 2, 3, 1, 1, 1, 3, 10, 5, 8, 'Append me!', 2.73]\n"
     ]
    }
   ],
   "source": [
    "print(new_list)"
   ]
  },
  {
   "cell_type": "markdown",
   "id": "668eb4d6",
   "metadata": {},
   "source": [
    "We can in fact add a list object to our my_list object"
   ]
  },
  {
   "cell_type": "code",
   "execution_count": 71,
   "id": "6f726cc5",
   "metadata": {},
   "outputs": [],
   "source": [
    "new_list.append([1, 2, 3])"
   ]
  },
  {
   "cell_type": "code",
   "execution_count": 72,
   "id": "9eb2c23a",
   "metadata": {},
   "outputs": [
    {
     "data": {
      "text/plain": [
       "[1, 2, 3, 1, 1, 1, 3, 10, 5, 8, 'Append me!', 2.73, [1, 2, 3]]"
      ]
     },
     "execution_count": 72,
     "metadata": {},
     "output_type": "execute_result"
    }
   ],
   "source": [
    "new_list"
   ]
  },
  {
   "cell_type": "code",
   "execution_count": 73,
   "id": "f57c9cea",
   "metadata": {},
   "outputs": [
    {
     "data": {
      "text/plain": [
       "13"
      ]
     },
     "execution_count": 73,
     "metadata": {},
     "output_type": "execute_result"
    }
   ],
   "source": [
    "len(new_list)"
   ]
  },
  {
   "cell_type": "code",
   "execution_count": 76,
   "id": "6611feec",
   "metadata": {},
   "outputs": [],
   "source": [
    "new_list.append([10, [19, 20], 30])"
   ]
  },
  {
   "cell_type": "code",
   "execution_count": 77,
   "id": "30be0a87",
   "metadata": {},
   "outputs": [
    {
     "data": {
      "text/plain": [
       "15"
      ]
     },
     "execution_count": 77,
     "metadata": {},
     "output_type": "execute_result"
    }
   ],
   "source": [
    "len(new_list)"
   ]
  },
  {
   "cell_type": "markdown",
   "id": "3ce2f8c8",
   "metadata": {},
   "source": [
    "extend()\n",
    "\n",
    "Use the extend() method to merge a list to an existing list\n",
    "\n",
    "extend() method takes a list or any iterable(don't worry about it now) as an argument.\n",
    "                                             \n",
    "Quite helpful when you have two or more lists and you want to merge them together"
   ]
  },
  {
   "cell_type": "code",
   "execution_count": 83,
   "id": "7d8a2b38",
   "metadata": {},
   "outputs": [
    {
     "name": "stdout",
     "output_type": "stream",
     "text": [
      "[1, 2, 3, 1, 1, 1, 3, 10, 5, 8, 'Append me!', 2.73, [1, 2, 3], [10, [19, 20], 30], [10, [19, 20], 30], 'interger', 'value', 'copy']\n"
     ]
    }
   ],
   "source": [
    "# Print the list\n",
    "\n",
    "print(new_list)"
   ]
  },
  {
   "cell_type": "code",
   "execution_count": 84,
   "id": "16639c2d",
   "metadata": {},
   "outputs": [],
   "source": [
    "new_list.extend(['interger' , 'value' , 'copy'])"
   ]
  },
  {
   "cell_type": "code",
   "execution_count": 85,
   "id": "fa6a090d",
   "metadata": {},
   "outputs": [
    {
     "name": "stdout",
     "output_type": "stream",
     "text": [
      "[1, 2, 3, 1, 1, 1, 3, 10, 5, 8, 'Append me!', 2.73, [1, 2, 3], [10, [19, 20], 30], [10, [19, 20], 30], 'interger', 'value', 'copy', 'interger', 'value', 'copy']\n"
     ]
    }
   ],
   "source": [
    "print(new_list)"
   ]
  },
  {
   "cell_type": "code",
   "execution_count": 86,
   "id": "f239b149",
   "metadata": {},
   "outputs": [
    {
     "data": {
      "text/plain": [
       "21"
      ]
     },
     "execution_count": 86,
     "metadata": {},
     "output_type": "execute_result"
    }
   ],
   "source": [
    "len(new_list)"
   ]
  },
  {
   "cell_type": "markdown",
   "id": "e0a74432",
   "metadata": {},
   "source": [
    "pop()\n",
    "\n",
    "Use pop() to \"pop off\" an item from the list.\n",
    "\n",
    "By default pop() takes off the element at the last index, but you can also specify which index\n",
    "to pop off.\n",
    "\n",
    "pop() takes the index as an argument and returns the elenent which was popped off."
   ]
  },
  {
   "cell_type": "code",
   "execution_count": 87,
   "id": "bb516f0d",
   "metadata": {},
   "outputs": [
    {
     "name": "stdout",
     "output_type": "stream",
     "text": [
      "[1, 2, 3, 1, 1, 1, 3, 10, 5, 8, 'Append me!', 2.73, [1, 2, 3], [10, [19, 20], 30], [10, [19, 20], 30], 'interger', 'value', 'copy', 'interger', 'value', 'copy']\n"
     ]
    }
   ],
   "source": [
    "# Print the list\n",
    "\n",
    "print(new_list)"
   ]
  },
  {
   "cell_type": "code",
   "execution_count": 91,
   "id": "7a2b89ac",
   "metadata": {},
   "outputs": [
    {
     "data": {
      "text/plain": [
       "'copy'"
      ]
     },
     "execution_count": 91,
     "metadata": {},
     "output_type": "execute_result"
    }
   ],
   "source": [
    "# Pop off the 0 index item\n",
    "\n",
    "new_list.pop()"
   ]
  },
  {
   "cell_type": "markdown",
   "id": "fb6fae70",
   "metadata": {},
   "source": [
    "pop() method changes the list by popping off the element at the specified index"
   ]
  },
  {
   "cell_type": "code",
   "execution_count": 92,
   "id": "539641b2",
   "metadata": {},
   "outputs": [
    {
     "data": {
      "text/plain": [
       "'value'"
      ]
     },
     "execution_count": 92,
     "metadata": {},
     "output_type": "execute_result"
    }
   ],
   "source": [
    "# Assign the popped element, remembar default popped index is -1\n",
    "\n",
    "new_list.pop(-1)"
   ]
  },
  {
   "cell_type": "code",
   "execution_count": 93,
   "id": "a6c9bdc3",
   "metadata": {},
   "outputs": [
    {
     "data": {
      "text/plain": [
       "[10, [19, 20], 30]"
      ]
     },
     "execution_count": 93,
     "metadata": {},
     "output_type": "execute_result"
    }
   ],
   "source": [
    "new_list.pop(-2)"
   ]
  },
  {
   "cell_type": "code",
   "execution_count": 94,
   "id": "e18e2d4d",
   "metadata": {},
   "outputs": [
    {
     "data": {
      "text/plain": [
       "15"
      ]
     },
     "execution_count": 94,
     "metadata": {},
     "output_type": "execute_result"
    }
   ],
   "source": [
    "len(new_list)"
   ]
  },
  {
   "cell_type": "markdown",
   "id": "07fdd768",
   "metadata": {},
   "source": [
    "remove()\n",
    "\n",
    "Use remove() to remove an item/element from the list.\n",
    "\n",
    "By default remove() removes the specified element from the list.\n",
    "\n",
    "remove() takes the element as an argument."
   ]
  },
  {
   "cell_type": "code",
   "execution_count": 95,
   "id": "06308ccd",
   "metadata": {},
   "outputs": [
    {
     "name": "stdout",
     "output_type": "stream",
     "text": [
      "[1, 2, 3, 1, 1, 1, 3, 10, 5, 8, 'Append me!', 2.73, [1, 2, 3], [10, [19, 20], 30], 'interger']\n"
     ]
    }
   ],
   "source": [
    "# Print the list\n",
    "\n",
    "print(new_list)"
   ]
  },
  {
   "cell_type": "code",
   "execution_count": 96,
   "id": "f1bc798f",
   "metadata": {},
   "outputs": [],
   "source": [
    "# Remove the element which you want to\n",
    "\n",
    "new_list.remove([1, 2, 3])"
   ]
  },
  {
   "cell_type": "code",
   "execution_count": 97,
   "id": "465db818",
   "metadata": {},
   "outputs": [
    {
     "name": "stdout",
     "output_type": "stream",
     "text": [
      "[1, 2, 3, 1, 1, 1, 3, 10, 5, 8, 'Append me!', 2.73, [10, [19, 20], 30], 'interger']\n"
     ]
    }
   ],
   "source": [
    "print(new_list)"
   ]
  },
  {
   "cell_type": "code",
   "execution_count": 98,
   "id": "22e61015",
   "metadata": {},
   "outputs": [],
   "source": [
    "new_list.remove(2)"
   ]
  },
  {
   "cell_type": "code",
   "execution_count": 99,
   "id": "3d9b0150",
   "metadata": {},
   "outputs": [
    {
     "name": "stdout",
     "output_type": "stream",
     "text": [
      "[1, 3, 1, 1, 1, 3, 10, 5, 8, 'Append me!', 2.73, [10, [19, 20], 30], 'interger']\n"
     ]
    }
   ],
   "source": [
    "print(new_list)"
   ]
  },
  {
   "cell_type": "code",
   "execution_count": 100,
   "id": "0e4b12cb",
   "metadata": {},
   "outputs": [
    {
     "data": {
      "text/plain": [
       "13"
      ]
     },
     "execution_count": 100,
     "metadata": {},
     "output_type": "execute_result"
    }
   ],
   "source": [
    "len(new_list)"
   ]
  },
  {
   "cell_type": "code",
   "execution_count": 101,
   "id": "487950cd",
   "metadata": {},
   "outputs": [
    {
     "data": {
      "text/plain": [
       "<function list.clear()>"
      ]
     },
     "execution_count": 101,
     "metadata": {},
     "output_type": "execute_result"
    }
   ],
   "source": [
    "new_list.clear"
   ]
  },
  {
   "cell_type": "markdown",
   "id": "e37b71e0",
   "metadata": {},
   "source": [
    "count()\n",
    "\n",
    "The count() method returns the total occurrence of a specified element in the list"
   ]
  },
  {
   "cell_type": "code",
   "execution_count": 102,
   "id": "a7e999f8",
   "metadata": {},
   "outputs": [
    {
     "name": "stdout",
     "output_type": "stream",
     "text": [
      "[1, 3, 1, 1, 1, 3, 10, 5, 8, 'Append me!', 2.73, [10, [19, 20], 30], 'interger']\n"
     ]
    }
   ],
   "source": [
    "print(new_list)"
   ]
  },
  {
   "cell_type": "code",
   "execution_count": 103,
   "id": "7ba8d08f",
   "metadata": {},
   "outputs": [
    {
     "data": {
      "text/plain": [
       "4"
      ]
     },
     "execution_count": 103,
     "metadata": {},
     "output_type": "execute_result"
    }
   ],
   "source": [
    "# Count the number of times element 1 occurs in new_list\n",
    "\n",
    "new_list.count(1)"
   ]
  },
  {
   "cell_type": "code",
   "execution_count": 104,
   "id": "1111f4d2",
   "metadata": {},
   "outputs": [
    {
     "data": {
      "text/plain": [
       "1"
      ]
     },
     "execution_count": 104,
     "metadata": {},
     "output_type": "execute_result"
    }
   ],
   "source": [
    "new_list.count('interger')"
   ]
  },
  {
   "cell_type": "markdown",
   "id": "df31ca68",
   "metadata": {},
   "source": [
    "index()\n",
    "\n",
    "The index() method returns the index of a specified element."
   ]
  },
  {
   "cell_type": "code",
   "execution_count": 105,
   "id": "52c90a78",
   "metadata": {},
   "outputs": [
    {
     "name": "stdout",
     "output_type": "stream",
     "text": [
      "[1, 3, 1, 1, 1, 3, 10, 5, 8, 'Append me!', 2.73, [10, [19, 20], 30], 'interger']\n"
     ]
    }
   ],
   "source": [
    "# Index method returns the index of a specified element\n",
    "\n",
    "print(new_list)"
   ]
  },
  {
   "cell_type": "code",
   "execution_count": 106,
   "id": "9ca96745",
   "metadata": {},
   "outputs": [
    {
     "data": {
      "text/plain": [
       "12"
      ]
     },
     "execution_count": 106,
     "metadata": {},
     "output_type": "execute_result"
    }
   ],
   "source": [
    "new_list.index('interger')"
   ]
  },
  {
   "cell_type": "code",
   "execution_count": 110,
   "id": "b2b26c46",
   "metadata": {},
   "outputs": [
    {
     "data": {
      "text/plain": [
       "6"
      ]
     },
     "execution_count": 110,
     "metadata": {},
     "output_type": "execute_result"
    }
   ],
   "source": [
    "new_list.index(10)"
   ]
  },
  {
   "cell_type": "markdown",
   "id": "4ee2ffb2",
   "metadata": {},
   "source": [
    "sort()\n",
    "\n",
    "Use sort() to sort the list in either ascending/descending order\n",
    "\n",
    "The sorting is done in ascending order by default\n",
    "\n",
    "sort() method takes the reverse boolean as an argument\n",
    "\n",
    "sort() method only works on a list with elements of same data type"
   ]
  },
  {
   "cell_type": "code",
   "execution_count": 111,
   "id": "4890caee",
   "metadata": {},
   "outputs": [],
   "source": [
    "my_list = [6 , 9 , 1 , 3 , 5]"
   ]
  },
  {
   "cell_type": "code",
   "execution_count": 112,
   "id": "e9461ef0",
   "metadata": {},
   "outputs": [],
   "source": [
    "# Use sort to start the list (this is permanent)\n",
    "\n",
    "my_list.sort()"
   ]
  },
  {
   "cell_type": "code",
   "execution_count": 113,
   "id": "032e6346",
   "metadata": {},
   "outputs": [
    {
     "name": "stdout",
     "output_type": "stream",
     "text": [
      "[1, 3, 5, 6, 9]\n"
     ]
    }
   ],
   "source": [
    "print(my_list)"
   ]
  },
  {
   "cell_type": "code",
   "execution_count": 114,
   "id": "4a8a59b8",
   "metadata": {},
   "outputs": [
    {
     "name": "stdout",
     "output_type": "stream",
     "text": [
      "[9, 6, 5, 3, 1]\n"
     ]
    }
   ],
   "source": [
    "# Use the Reverce boolean to set the ascending or descending order\n",
    "\n",
    "my_list.sort(reverse = True)\n",
    "print(my_list)"
   ]
  },
  {
   "cell_type": "code",
   "execution_count": 115,
   "id": "b3b733d8",
   "metadata": {},
   "outputs": [],
   "source": [
    "boolen_list = [True , False]"
   ]
  },
  {
   "cell_type": "code",
   "execution_count": 116,
   "id": "3096607e",
   "metadata": {},
   "outputs": [],
   "source": [
    "boolen_list.sort(reverse = True)"
   ]
  },
  {
   "cell_type": "code",
   "execution_count": 117,
   "id": "b413a305",
   "metadata": {},
   "outputs": [
    {
     "name": "stdout",
     "output_type": "stream",
     "text": [
      "[True, False]\n"
     ]
    }
   ],
   "source": [
    "print(boolen_list)"
   ]
  },
  {
   "cell_type": "markdown",
   "id": "550c2510",
   "metadata": {},
   "source": [
    "reverse()\n",
    "\n",
    "reverse() method reverses the list"
   ]
  },
  {
   "cell_type": "code",
   "execution_count": 119,
   "id": "85f42e28",
   "metadata": {},
   "outputs": [],
   "source": [
    "# Reverse methode reverse the list\n",
    "\n",
    "my_list = [1 , 1 , 1 , 1 , 1.43 , 2 , 3 , 3 , 5 , 8 , 10 , 'Nitin','Bagade']"
   ]
  },
  {
   "cell_type": "code",
   "execution_count": 120,
   "id": "ffe21f4e",
   "metadata": {},
   "outputs": [
    {
     "name": "stdout",
     "output_type": "stream",
     "text": [
      "[1, 1, 1, 1, 1.43, 2, 3, 3, 5, 8, 10, 'Nitin', 'Bagade']\n"
     ]
    }
   ],
   "source": [
    "print(my_list)"
   ]
  },
  {
   "cell_type": "code",
   "execution_count": 121,
   "id": "a2342626",
   "metadata": {},
   "outputs": [],
   "source": [
    "my_list.reverse()"
   ]
  },
  {
   "cell_type": "code",
   "execution_count": 122,
   "id": "fcec5b23",
   "metadata": {},
   "outputs": [
    {
     "name": "stdout",
     "output_type": "stream",
     "text": [
      "['Bagade', 'Nitin', 10, 8, 5, 3, 3, 2, 1.43, 1, 1, 1, 1]\n"
     ]
    }
   ],
   "source": [
    "print(my_list)"
   ]
  },
  {
   "cell_type": "markdown",
   "id": "b5c56947",
   "metadata": {},
   "source": [
    "Nested Lists\n",
    "\n",
    "A great feature of of Python data structures is that they support nesting. This means we can\n",
    "have data structures within data structures. For example: A list inside a list."
   ]
  },
  {
   "cell_type": "code",
   "execution_count": 123,
   "id": "4c52000c",
   "metadata": {},
   "outputs": [],
   "source": [
    "# Nested List Let's make three lists\n",
    "\n",
    "list_1 = [1, 2, 3]\n",
    "list_2 = ['a', 'b', 'c']\n",
    "list_3 = [4, 5, 6]"
   ]
  },
  {
   "cell_type": "code",
   "execution_count": 124,
   "id": "e54506ac",
   "metadata": {},
   "outputs": [],
   "source": [
    "# Make a list of lists to from a matrix\n",
    "\n",
    "list_of_lists = [list_1 , list_2 , list_3]"
   ]
  },
  {
   "cell_type": "code",
   "execution_count": 125,
   "id": "a862c7b2",
   "metadata": {},
   "outputs": [
    {
     "name": "stdout",
     "output_type": "stream",
     "text": [
      "[[1, 2, 3], ['a', 'b', 'c'], [4, 5, 6]]\n"
     ]
    }
   ],
   "source": [
    "print(list_of_lists)"
   ]
  },
  {
   "cell_type": "code",
   "execution_count": 126,
   "id": "0745577a",
   "metadata": {},
   "outputs": [
    {
     "data": {
      "text/plain": [
       "list"
      ]
     },
     "execution_count": 126,
     "metadata": {},
     "output_type": "execute_result"
    }
   ],
   "source": [
    "# Show\n",
    "\n",
    "type(list_of_lists)"
   ]
  },
  {
   "cell_type": "code",
   "execution_count": 128,
   "id": "58d5defc",
   "metadata": {},
   "outputs": [
    {
     "data": {
      "text/plain": [
       "['a', 'b', 'c']"
      ]
     },
     "execution_count": 128,
     "metadata": {},
     "output_type": "execute_result"
    }
   ],
   "source": [
    "# Grab first item in matrix object\n",
    "\n",
    "list_of_lists[1]"
   ]
  },
  {
   "cell_type": "code",
   "execution_count": 129,
   "id": "8f6b7296",
   "metadata": {},
   "outputs": [
    {
     "data": {
      "text/plain": [
       "[4, 5, 6]"
      ]
     },
     "execution_count": 129,
     "metadata": {},
     "output_type": "execute_result"
    }
   ],
   "source": [
    "list_of_lists[2]"
   ]
  },
  {
   "cell_type": "code",
   "execution_count": null,
   "id": "58adab01",
   "metadata": {},
   "outputs": [],
   "source": []
  },
  {
   "cell_type": "code",
   "execution_count": null,
   "id": "a4aec3f7",
   "metadata": {},
   "outputs": [],
   "source": []
  }
 ],
 "metadata": {
  "kernelspec": {
   "display_name": "Python 3 (ipykernel)",
   "language": "python",
   "name": "python3"
  },
  "language_info": {
   "codemirror_mode": {
    "name": "ipython",
    "version": 3
   },
   "file_extension": ".py",
   "mimetype": "text/x-python",
   "name": "python",
   "nbconvert_exporter": "python",
   "pygments_lexer": "ipython3",
   "version": "3.9.13"
  }
 },
 "nbformat": 4,
 "nbformat_minor": 5
}
